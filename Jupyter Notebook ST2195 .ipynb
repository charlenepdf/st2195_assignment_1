{
 "cells": [
  {
   "cell_type": "markdown",
   "id": "2042afc5",
   "metadata": {},
   "source": [
    "This sets up a \"for\" loop that will iterate through the numbers 1 to 10, with the current number in each iteration stored in the variable \"num\"."
   ]
  },
  {
   "cell_type": "code",
   "execution_count": null,
   "id": "ffe7c251",
   "metadata": {},
   "outputs": [],
   "source": [
    "for num in range(1, 11):"
   ]
  },
  {
   "cell_type": "markdown",
   "id": "633e000c",
   "metadata": {},
   "source": [
    "This statement instructs the computer to output the value stored in the variable \"num\" to the console."
   ]
  },
  {
   "cell_type": "code",
   "execution_count": null,
   "id": "1b98de1d",
   "metadata": {},
   "outputs": [],
   "source": [
    "print(num)"
   ]
  }
 ],
 "metadata": {
  "kernelspec": {
   "display_name": "Python 3 (ipykernel)",
   "language": "python",
   "name": "python3"
  },
  "language_info": {
   "codemirror_mode": {
    "name": "ipython",
    "version": 3
   },
   "file_extension": ".py",
   "mimetype": "text/x-python",
   "name": "python",
   "nbconvert_exporter": "python",
   "pygments_lexer": "ipython3",
   "version": "3.11.4"
  }
 },
 "nbformat": 4,
 "nbformat_minor": 5
}
